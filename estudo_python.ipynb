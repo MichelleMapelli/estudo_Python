{
  "nbformat": 4,
  "nbformat_minor": 0,
  "metadata": {
    "colab": {
      "provenance": []
    },
    "kernelspec": {
      "name": "python3",
      "display_name": "Python 3"
    },
    "language_info": {
      "name": "python"
    }
  },
  "cells": [
    {
      "cell_type": "code",
      "execution_count": null,
      "metadata": {
        "id": "2O-YpbvY7YRg"
      },
      "outputs": [],
      "source": []
    },
    {
      "cell_type": "markdown",
      "source": [
        "# Estudo Python\n"
      ],
      "metadata": {
        "id": "HWU82_aj7b9P"
      }
    },
    {
      "cell_type": "markdown",
      "source": [
        "### Variável"
      ],
      "metadata": {
        "id": "FqiFH_0C7s_N"
      }
    },
    {
      "cell_type": "markdown",
      "source": [
        "\n",
        "\n",
        "**int** numero_inteiro = 1\n",
        "\n",
        "**float** numero_float = 1.0\n",
        "\n",
        "**bool** booleano = True\n",
        "\n",
        "**str**  texto = \"String é um texto\""
      ],
      "metadata": {
        "id": "EtDnlf5S8H9U"
      }
    },
    {
      "cell_type": "code",
      "source": [
        "numero_inteiro = 10\n",
        "type(numero_inteiro)"
      ],
      "metadata": {
        "colab": {
          "base_uri": "https://localhost:8080/"
        },
        "id": "YhkRx-t07xI3",
        "outputId": "5ede2c9b-4e93-4ac1-c6e8-17f8f5f05475"
      },
      "execution_count": null,
      "outputs": [
        {
          "output_type": "execute_result",
          "data": {
            "text/plain": [
              "int"
            ]
          },
          "metadata": {},
          "execution_count": 1
        }
      ]
    },
    {
      "cell_type": "code",
      "source": [
        "numero_float = 1.0\n",
        "type(numero_float)"
      ],
      "metadata": {
        "colab": {
          "base_uri": "https://localhost:8080/"
        },
        "id": "Bb0WphXI9C6_",
        "outputId": "7ffb27f7-d6fb-4b19-e9cf-44fcde1feeb8"
      },
      "execution_count": null,
      "outputs": [
        {
          "output_type": "execute_result",
          "data": {
            "text/plain": [
              "float"
            ]
          },
          "metadata": {},
          "execution_count": 2
        }
      ]
    },
    {
      "cell_type": "code",
      "source": [
        "booleano = True\n",
        "type(booleano)"
      ],
      "metadata": {
        "colab": {
          "base_uri": "https://localhost:8080/"
        },
        "id": "ahD9Af0m9Ps9",
        "outputId": "3286acd8-f738-4b51-fec7-d86e920749c8"
      },
      "execution_count": null,
      "outputs": [
        {
          "output_type": "execute_result",
          "data": {
            "text/plain": [
              "bool"
            ]
          },
          "metadata": {},
          "execution_count": 3
        }
      ]
    },
    {
      "cell_type": "code",
      "source": [
        "texto = \"Isso é uma string\"\n",
        "type(texto)"
      ],
      "metadata": {
        "colab": {
          "base_uri": "https://localhost:8080/"
        },
        "id": "CioG8JcZ9ZDy",
        "outputId": "5621e4ea-e602-401d-d0f6-58c1c2d213ea"
      },
      "execution_count": null,
      "outputs": [
        {
          "output_type": "execute_result",
          "data": {
            "text/plain": [
              "str"
            ]
          },
          "metadata": {},
          "execution_count": 4
        }
      ]
    },
    {
      "cell_type": "markdown",
      "source": [],
      "metadata": {
        "id": "zego5-mq9sgp"
      }
    },
    {
      "cell_type": "markdown",
      "source": [
        "### Operações básicas"
      ],
      "metadata": {
        "id": "kXfRMwlg96K5"
      }
    },
    {
      "cell_type": "code",
      "source": [
        "a = 10\n",
        "b = 5"
      ],
      "metadata": {
        "id": "JmtTYCmr93j_"
      },
      "execution_count": null,
      "outputs": []
    },
    {
      "cell_type": "code",
      "source": [
        "soma = a + b\n",
        "subtracao = a - b\n",
        "multiplicacao = a * b\n",
        "divisao = a / b\n",
        "\n",
        "print(soma, subtracao, multiplicacao, divisao)"
      ],
      "metadata": {
        "colab": {
          "base_uri": "https://localhost:8080/"
        },
        "id": "TmJBpjy5-A8-",
        "outputId": "f7add99f-e0ae-4be6-e064-fcdf9c6af9e0"
      },
      "execution_count": null,
      "outputs": [
        {
          "output_type": "stream",
          "name": "stdout",
          "text": [
            "15 5 50 2.0\n"
          ]
        }
      ]
    },
    {
      "cell_type": "markdown",
      "source": [
        "## Estruturas condicionais"
      ],
      "metadata": {
        "id": "gK7q8Alp-l31"
      }
    },
    {
      "cell_type": "markdown",
      "source": [
        "###IF"
      ],
      "metadata": {
        "id": "7-J0qc0EQKq4"
      }
    },
    {
      "cell_type": "code",
      "source": [
        "x = 10\n",
        "y = 15"
      ],
      "metadata": {
        "id": "CFxkV4P7-fHd"
      },
      "execution_count": null,
      "outputs": []
    },
    {
      "cell_type": "code",
      "source": [
        "if x > y:\n",
        "  print(\"x é maior do que y\")\n",
        "elif x < y:\n",
        "  print(\"x é menor do que y\")\n",
        "else:\n",
        "  print(\"x é igual a y\")"
      ],
      "metadata": {
        "colab": {
          "base_uri": "https://localhost:8080/"
        },
        "id": "mj4SGmB6-oMB",
        "outputId": "40c617d2-33e9-41cb-c678-fdd531df48c3"
      },
      "execution_count": null,
      "outputs": [
        {
          "output_type": "stream",
          "name": "stdout",
          "text": [
            "x é menor do que y\n"
          ]
        }
      ]
    },
    {
      "cell_type": "markdown",
      "source": [
        "## Estrutura de repetição"
      ],
      "metadata": {
        "id": "6-xiG4LY_pLm"
      }
    },
    {
      "cell_type": "markdown",
      "source": [
        "###FOR"
      ],
      "metadata": {
        "id": "89nMXeXqQD2n"
      }
    },
    {
      "cell_type": "code",
      "source": [
        "lista = [1, 2, 3, 4, 5]\n",
        "\n",
        "for i in lista:\n",
        "  print(i)"
      ],
      "metadata": {
        "colab": {
          "base_uri": "https://localhost:8080/"
        },
        "id": "rXf5ahnz_TQw",
        "outputId": "ab54548a-1374-4c08-9e0e-f0e849a6adbe"
      },
      "execution_count": null,
      "outputs": [
        {
          "output_type": "stream",
          "name": "stdout",
          "text": [
            "1\n",
            "2\n",
            "3\n",
            "4\n",
            "5\n"
          ]
        }
      ]
    },
    {
      "cell_type": "code",
      "source": [
        "texto = \"Estudar Python pode me ajudar a progredir na carreira\"\n",
        "for t in texto:\n",
        "  print(t.upper())"
      ],
      "metadata": {
        "colab": {
          "base_uri": "https://localhost:8080/"
        },
        "id": "aXuGP1er_rfY",
        "outputId": "dcd71a20-8c0c-449b-cfce-aa9d246bcc95"
      },
      "execution_count": null,
      "outputs": [
        {
          "output_type": "stream",
          "name": "stdout",
          "text": [
            "E\n",
            "S\n",
            "T\n",
            "U\n",
            "D\n",
            "A\n",
            "R\n",
            " \n",
            "P\n",
            "Y\n",
            "T\n",
            "H\n",
            "O\n",
            "N\n",
            " \n",
            "P\n",
            "O\n",
            "D\n",
            "E\n",
            " \n",
            "M\n",
            "E\n",
            " \n",
            "A\n",
            "J\n",
            "U\n",
            "D\n",
            "A\n",
            "R\n",
            " \n",
            "A\n",
            " \n",
            "P\n",
            "R\n",
            "O\n",
            "G\n",
            "R\n",
            "E\n",
            "D\n",
            "I\n",
            "R\n",
            " \n",
            "N\n",
            "A\n",
            " \n",
            "C\n",
            "A\n",
            "R\n",
            "R\n",
            "E\n",
            "I\n",
            "R\n",
            "A\n"
          ]
        }
      ]
    },
    {
      "cell_type": "markdown",
      "source": [
        "###WHILE"
      ],
      "metadata": {
        "id": "MwbrAFcMQHaP"
      }
    },
    {
      "cell_type": "code",
      "source": [
        "i = 0\n",
        "while i < 10:\n",
        "  print(i)\n",
        "  i += 1"
      ],
      "metadata": {
        "colab": {
          "base_uri": "https://localhost:8080/"
        },
        "id": "s641jvAUP63O",
        "outputId": "07d9472f-1257-49c7-95d4-fe90f56b2423"
      },
      "execution_count": null,
      "outputs": [
        {
          "output_type": "stream",
          "name": "stdout",
          "text": [
            "0\n",
            "1\n",
            "2\n",
            "3\n",
            "4\n",
            "5\n",
            "6\n",
            "7\n",
            "8\n",
            "9\n"
          ]
        }
      ]
    },
    {
      "cell_type": "code",
      "source": [
        "x = 0\n",
        "while x < 50:\n",
        "  if x % 2 == 0:\n",
        "    print(x)\n",
        "  x += 1"
      ],
      "metadata": {
        "colab": {
          "base_uri": "https://localhost:8080/"
        },
        "id": "jLUVisqAQdjY",
        "outputId": "cbcaea2d-316d-4795-bb2e-593518e8c82f"
      },
      "execution_count": null,
      "outputs": [
        {
          "output_type": "stream",
          "name": "stdout",
          "text": [
            "0\n",
            "2\n",
            "4\n",
            "6\n",
            "8\n",
            "10\n",
            "12\n",
            "14\n",
            "16\n",
            "18\n",
            "20\n",
            "22\n",
            "24\n",
            "26\n",
            "28\n",
            "30\n",
            "32\n",
            "34\n",
            "36\n",
            "38\n",
            "40\n",
            "42\n",
            "44\n",
            "46\n",
            "48\n"
          ]
        }
      ]
    },
    {
      "cell_type": "markdown",
      "source": [
        "# Estrutura de Dados"
      ],
      "metadata": {
        "id": "Sgd-unVZRT_8"
      }
    },
    {
      "cell_type": "markdown",
      "source": [
        "### Tupla"
      ],
      "metadata": {
        "id": "VOlRLWTBRW1p"
      }
    },
    {
      "cell_type": "code",
      "source": [
        "tupla = (1 ,2 , 3, 4, 5)\n",
        "type(tupla)"
      ],
      "metadata": {
        "colab": {
          "base_uri": "https://localhost:8080/"
        },
        "id": "tNWVTOZcQ1Gk",
        "outputId": "28c3bbb9-f4c8-4f09-97ab-a5c4cdb4d827"
      },
      "execution_count": null,
      "outputs": [
        {
          "output_type": "execute_result",
          "data": {
            "text/plain": [
              "tuple"
            ]
          },
          "metadata": {},
          "execution_count": 23
        }
      ]
    },
    {
      "cell_type": "markdown",
      "source": [
        "### Lista"
      ],
      "metadata": {
        "id": "Fln6Yj7fRlSw"
      }
    },
    {
      "cell_type": "code",
      "source": [
        "lista = [1 ,2, 3, 4 , 5]\n",
        "type(lista)"
      ],
      "metadata": {
        "colab": {
          "base_uri": "https://localhost:8080/"
        },
        "id": "ItvS6zaQRe0N",
        "outputId": "b5da8349-2d75-47cc-ab70-76ff75f6f109"
      },
      "execution_count": null,
      "outputs": [
        {
          "output_type": "execute_result",
          "data": {
            "text/plain": [
              "list"
            ]
          },
          "metadata": {},
          "execution_count": 26
        }
      ]
    },
    {
      "cell_type": "markdown",
      "source": [
        "###Dicionário"
      ],
      "metadata": {
        "id": "JR7rPYGeRvxJ"
      }
    },
    {
      "cell_type": "code",
      "source": [
        "dicionario = {\"nome\":\"Michelle\", \"altura\":1.70}\n",
        "type(dicionario)\n"
      ],
      "metadata": {
        "colab": {
          "base_uri": "https://localhost:8080/"
        },
        "id": "gmaEumswRp9c",
        "outputId": "8fdd48a8-faa1-4484-ae44-83995d6563be"
      },
      "execution_count": null,
      "outputs": [
        {
          "output_type": "execute_result",
          "data": {
            "text/plain": [
              "dict"
            ]
          },
          "metadata": {},
          "execution_count": 28
        }
      ]
    },
    {
      "cell_type": "markdown",
      "source": [
        "# Funções"
      ],
      "metadata": {
        "id": "HYloyHZYSXox"
      }
    },
    {
      "cell_type": "code",
      "source": [
        "def somar (a, b):\n",
        "  return a + b\n",
        "\n",
        "resultado = somar(5 , 97)\n",
        "\n",
        "print(resultado)"
      ],
      "metadata": {
        "colab": {
          "base_uri": "https://localhost:8080/"
        },
        "id": "J49CMAUtSFlF",
        "outputId": "ca351052-c02c-417b-d469-34ad89d20865"
      },
      "execution_count": null,
      "outputs": [
        {
          "output_type": "stream",
          "name": "stdout",
          "text": [
            "102\n"
          ]
        }
      ]
    },
    {
      "cell_type": "code",
      "source": [
        "def conferir_idade (a):\n",
        "  if a >= 18:\n",
        "    print(\"Maior de idade\")\n",
        "  else:\n",
        "    print(\"Menor de idade\")\n",
        "\n",
        "retorno = conferir_idade(int(input(\"Qual a idade informada: \")))\n"
      ],
      "metadata": {
        "colab": {
          "base_uri": "https://localhost:8080/"
        },
        "id": "eWNi0glAS14c",
        "outputId": "61a072eb-72e3-44c0-cf69-0a898ff0089c"
      },
      "execution_count": null,
      "outputs": [
        {
          "output_type": "stream",
          "name": "stdout",
          "text": [
            "Qual a idade informada: 18\n",
            "Maior de idade\n"
          ]
        }
      ]
    },
    {
      "cell_type": "markdown",
      "source": [
        "# Análise de Dados com Python"
      ],
      "metadata": {
        "id": "UjWXy4t7YhQU"
      }
    },
    {
      "cell_type": "code",
      "source": [],
      "metadata": {
        "id": "r6ruhMd5TmKB"
      },
      "execution_count": null,
      "outputs": []
    },
    {
      "cell_type": "markdown",
      "source": [
        "## Bibliotecas Importantes"
      ],
      "metadata": {
        "id": "oMRMt69OYmCo"
      }
    },
    {
      "cell_type": "markdown",
      "source": [
        "###NumPy\n",
        "\n",
        "NumPy é uma biblioteca fundamental para computação científica em Python. Ela fornece um objeto de matriz multidimensional de alta performance e ferramentas para trabalhar com essas matrizes."
      ],
      "metadata": {
        "id": "zNDKFLrVY6-p"
      }
    },
    {
      "cell_type": "code",
      "source": [
        "pip install numpy"
      ],
      "metadata": {
        "id": "6TusdwsaYnuj",
        "outputId": "d90ae0d5-9120-4aa8-df16-0655cb821867",
        "colab": {
          "base_uri": "https://localhost:8080/"
        }
      },
      "execution_count": 1,
      "outputs": [
        {
          "output_type": "stream",
          "name": "stdout",
          "text": [
            "Requirement already satisfied: numpy in /usr/local/lib/python3.10/dist-packages (1.25.2)\n"
          ]
        }
      ]
    },
    {
      "cell_type": "code",
      "source": [
        "import numpy as np"
      ],
      "metadata": {
        "id": "xMX4VOQ0Ys_7"
      },
      "execution_count": 3,
      "outputs": []
    },
    {
      "cell_type": "code",
      "source": [
        "array = np.array([1, 2, 3, 4, 5, 6])\n",
        "print(array)\n",
        "print(array.mean()) # Média dos elementos"
      ],
      "metadata": {
        "id": "-sZS1DeBY0-B",
        "outputId": "9ebf504f-b335-49ae-bc2d-95a1a843ec68",
        "colab": {
          "base_uri": "https://localhost:8080/"
        }
      },
      "execution_count": 4,
      "outputs": [
        {
          "output_type": "stream",
          "name": "stdout",
          "text": [
            "[1 2 3 4 5 6]\n",
            "3.5\n"
          ]
        }
      ]
    },
    {
      "cell_type": "markdown",
      "source": [
        "###Pandas\n",
        "\n",
        "Pandas é uma biblioteca poderosa para análise de dados. Ela fornece estruturas de dados como DataFrame, que é essencial para manipulação de dados."
      ],
      "metadata": {
        "id": "c0x6G4v8Zbgc"
      }
    },
    {
      "cell_type": "code",
      "source": [
        "# pip install pandas"
      ],
      "metadata": {
        "id": "t2Q_uuv0ZT4K"
      },
      "execution_count": 5,
      "outputs": []
    },
    {
      "cell_type": "code",
      "source": [
        "import pandas as pd"
      ],
      "metadata": {
        "id": "20urThmCZmqD"
      },
      "execution_count": 6,
      "outputs": []
    },
    {
      "cell_type": "code",
      "source": [
        "data = {\n",
        "    \"Nome\": [\"Ana\", \"João\", \"Maria\"],\n",
        "    \"Idade\":[\"23\", \"34\", \"45\"],\n",
        "    \"Cidade\":[\"São Paulo\",\"Rio de Janeiro\",\"Belo Horizonte\"]\n",
        "}"
      ],
      "metadata": {
        "id": "tyCq3EZtZot6"
      },
      "execution_count": 9,
      "outputs": []
    },
    {
      "cell_type": "code",
      "source": [
        "df = pd.DataFrame(data)\n",
        "print(df)"
      ],
      "metadata": {
        "id": "sdcb_D1NaP4z",
        "outputId": "63d835b0-39d9-4a6a-d3cf-bcfd4f3b9906",
        "colab": {
          "base_uri": "https://localhost:8080/"
        }
      },
      "execution_count": 10,
      "outputs": [
        {
          "output_type": "stream",
          "name": "stdout",
          "text": [
            "    Nome Idade          Cidade\n",
            "0    Ana    23       São Paulo\n",
            "1   João    34  Rio de Janeiro\n",
            "2  Maria    45  Belo Horizonte\n"
          ]
        }
      ]
    },
    {
      "cell_type": "markdown",
      "source": [
        "###Matplotlib\n",
        "Matplotlib é uma biblioteca para criação de visualizações estáticas, animadas e interativas em Python."
      ],
      "metadata": {
        "id": "Fabdu93sagFv"
      }
    },
    {
      "cell_type": "code",
      "source": [
        "import matplotlib.pyplot as plt"
      ],
      "metadata": {
        "id": "qSJinZ60aWXS"
      },
      "execution_count": 11,
      "outputs": []
    },
    {
      "cell_type": "code",
      "source": [
        "x = [1, 2, 3, 4, 5]\n",
        "y = [2, 3, 5, 7, 11]\n",
        "\n",
        "plt.plot(x, y)\n",
        "plt.xlabel(\"x\")\n",
        "plt.ylabel(\"y\")\n",
        "plt.title(\"Gráfico de Linha\")\n",
        "plt.show()"
      ],
      "metadata": {
        "id": "27fUu909aroB",
        "outputId": "eba1f9e0-1141-4898-85cd-c22be3f80569",
        "colab": {
          "base_uri": "https://localhost:8080/",
          "height": 642
        }
      },
      "execution_count": 12,
      "outputs": [
        {
          "output_type": "execute_result",
          "data": {
            "text/plain": [
              "<function matplotlib.pyplot.show(close=None, block=None)>"
            ],
            "text/html": [
              "<div style=\"max-width:800px; border: 1px solid var(--colab-border-color);\"><style>\n",
              "      pre.function-repr-contents {\n",
              "        overflow-x: auto;\n",
              "        padding: 8px 12px;\n",
              "        max-height: 500px;\n",
              "      }\n",
              "\n",
              "      pre.function-repr-contents.function-repr-contents-collapsed {\n",
              "        cursor: pointer;\n",
              "        max-height: 100px;\n",
              "      }\n",
              "    </style>\n",
              "    <pre style=\"white-space: initial; background:\n",
              "         var(--colab-secondary-surface-color); padding: 8px 12px;\n",
              "         border-bottom: 1px solid var(--colab-border-color);\"><b>matplotlib.pyplot.show</b><br/>def show(*args, **kwargs)</pre><pre class=\"function-repr-contents function-repr-contents-collapsed\" style=\"\"><a class=\"filepath\" style=\"display:none\" href=\"#\">/usr/local/lib/python3.10/dist-packages/matplotlib/pyplot.py</a>Display all open figures.\n",
              "\n",
              "Parameters\n",
              "----------\n",
              "block : bool, optional\n",
              "    Whether to wait for all figures to be closed before returning.\n",
              "\n",
              "    If `True` block and run the GUI main loop until all figure windows\n",
              "    are closed.\n",
              "\n",
              "    If `False` ensure that all figure windows are displayed and return\n",
              "    immediately.  In this case, you are responsible for ensuring\n",
              "    that the event loop is running to have responsive figures.\n",
              "\n",
              "    Defaults to True in non-interactive mode and to False in interactive\n",
              "    mode (see `.pyplot.isinteractive`).\n",
              "\n",
              "See Also\n",
              "--------\n",
              "ion : Enable interactive mode, which shows / updates the figure after\n",
              "      every plotting command, so that calling ``show()`` is not necessary.\n",
              "ioff : Disable interactive mode.\n",
              "savefig : Save the figure to an image file instead of showing it on screen.\n",
              "\n",
              "Notes\n",
              "-----\n",
              "**Saving figures to file and showing a window at the same time**\n",
              "\n",
              "If you want an image file as well as a user interface window, use\n",
              "`.pyplot.savefig` before `.pyplot.show`. At the end of (a blocking)\n",
              "``show()`` the figure is closed and thus unregistered from pyplot. Calling\n",
              "`.pyplot.savefig` afterwards would save a new and thus empty figure. This\n",
              "limitation of command order does not apply if the show is non-blocking or\n",
              "if you keep a reference to the figure and use `.Figure.savefig`.\n",
              "\n",
              "**Auto-show in jupyter notebooks**\n",
              "\n",
              "The jupyter backends (activated via ``%matplotlib inline``,\n",
              "``%matplotlib notebook``, or ``%matplotlib widget``), call ``show()`` at\n",
              "the end of every cell by default. Thus, you usually don&#x27;t have to call it\n",
              "explicitly there.</pre>\n",
              "      <script>\n",
              "      if (google.colab.kernel.accessAllowed && google.colab.files && google.colab.files.view) {\n",
              "        for (const element of document.querySelectorAll('.filepath')) {\n",
              "          element.style.display = 'block'\n",
              "          element.onclick = (event) => {\n",
              "            event.preventDefault();\n",
              "            event.stopPropagation();\n",
              "            google.colab.files.view(element.textContent, 401);\n",
              "          };\n",
              "        }\n",
              "      }\n",
              "      for (const element of document.querySelectorAll('.function-repr-contents')) {\n",
              "        element.onclick = (event) => {\n",
              "          event.preventDefault();\n",
              "          event.stopPropagation();\n",
              "          element.classList.toggle('function-repr-contents-collapsed');\n",
              "        };\n",
              "      }\n",
              "      </script>\n",
              "      </div>"
            ]
          },
          "metadata": {},
          "execution_count": 12
        },
        {
          "output_type": "display_data",
          "data": {
            "text/plain": [
              "<Figure size 640x480 with 1 Axes>"
            ],
            "image/png": "[encoded data removed]"
          },
          "metadata": {}
        }
      ]
    },
    {
      "cell_type": "code",
      "source": [],
      "metadata": {
        "id": "nsFG6ukHbBbf"
      },
      "execution_count": null,
      "outputs": []
    }
  ]
}