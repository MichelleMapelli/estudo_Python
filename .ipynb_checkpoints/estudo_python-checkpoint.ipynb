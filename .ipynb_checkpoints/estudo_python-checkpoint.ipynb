{
 "cells": [
  {
   "cell_type": "markdown",
   "metadata": {
    "id": "HWU82_aj7b9P"
   },
   "source": [
    "# Estudo Python\n"
   ]
  },
  {
   "cell_type": "markdown",
   "metadata": {
    "id": "FqiFH_0C7s_N"
   },
   "source": [
    "### Variável"
   ]
  },
  {
   "cell_type": "markdown",
   "metadata": {
    "id": "EtDnlf5S8H9U"
   },
   "source": [
    "\n",
    "\n",
    "**int** numero_inteiro = 1\n",
    "\n",
    "**float** numero_float = 1.0\n",
    "\n",
    "**bool** booleano = True\n",
    "\n",
    "**str**  texto = \"String é um texto\""
   ]
  },
  {
   "cell_type": "code",
   "execution_count": 1,
   "metadata": {
    "colab": {
     "base_uri": "https://localhost:8080/"
    },
    "id": "YhkRx-t07xI3",
    "outputId": "5ede2c9b-4e93-4ac1-c6e8-17f8f5f05475"
   },
   "outputs": [
    {
     "data": {
      "text/plain": [
       "int"
      ]
     },
     "execution_count": 1,
     "metadata": {},
     "output_type": "execute_result"
    }
   ],
   "source": [
    "numero_inteiro = 10\n",
    "type(numero_inteiro)"
   ]
  },
  {
   "cell_type": "code",
   "execution_count": 2,
   "metadata": {
    "colab": {
     "base_uri": "https://localhost:8080/"
    },
    "id": "Bb0WphXI9C6_",
    "outputId": "7ffb27f7-d6fb-4b19-e9cf-44fcde1feeb8"
   },
   "outputs": [
    {
     "data": {
      "text/plain": [
       "float"
      ]
     },
     "execution_count": 2,
     "metadata": {},
     "output_type": "execute_result"
    }
   ],
   "source": [
    "numero_float = 1.0\n",
    "type(numero_float)"
   ]
  },
  {
   "cell_type": "code",
   "execution_count": 3,
   "metadata": {
    "colab": {
     "base_uri": "https://localhost:8080/"
    },
    "id": "ahD9Af0m9Ps9",
    "outputId": "3286acd8-f738-4b51-fec7-d86e920749c8"
   },
   "outputs": [
    {
     "data": {
      "text/plain": [
       "bool"
      ]
     },
     "execution_count": 3,
     "metadata": {},
     "output_type": "execute_result"
    }
   ],
   "source": [
    "booleano = True\n",
    "type(booleano)"
   ]
  },
  {
   "cell_type": "code",
   "execution_count": 4,
   "metadata": {
    "colab": {
     "base_uri": "https://localhost:8080/"
    },
    "id": "CioG8JcZ9ZDy",
    "outputId": "5621e4ea-e602-401d-d0f6-58c1c2d213ea"
   },
   "outputs": [
    {
     "data": {
      "text/plain": [
       "str"
      ]
     },
     "execution_count": 4,
     "metadata": {},
     "output_type": "execute_result"
    }
   ],
   "source": [
    "texto = \"Isso é uma string\"\n",
    "type(texto)"
   ]
  },
  {
   "cell_type": "markdown",
   "metadata": {
    "id": "zego5-mq9sgp"
   },
   "source": []
  },
  {
   "cell_type": "markdown",
   "metadata": {
    "id": "kXfRMwlg96K5"
   },
   "source": [
    "### Operações básicas"
   ]
  },
  {
   "cell_type": "code",
   "execution_count": 5,
   "metadata": {
    "id": "JmtTYCmr93j_"
   },
   "outputs": [],
   "source": [
    "a = 10\n",
    "b = 5"
   ]
  },
  {
   "cell_type": "code",
   "execution_count": 6,
   "metadata": {
    "colab": {
     "base_uri": "https://localhost:8080/"
    },
    "id": "TmJBpjy5-A8-",
    "outputId": "f7add99f-e0ae-4be6-e064-fcdf9c6af9e0"
   },
   "outputs": [
    {
     "name": "stdout",
     "output_type": "stream",
     "text": [
      "15 5 50 2.0\n"
     ]
    }
   ],
   "source": [
    "soma = a + b\n",
    "subtracao = a - b\n",
    "multiplicacao = a * b\n",
    "divisao = a / b\n",
    "\n",
    "print(soma, subtracao, multiplicacao, divisao)"
   ]
  },
  {
   "cell_type": "markdown",
   "metadata": {
    "id": "gK7q8Alp-l31"
   },
   "source": [
    "## Estruturas condicionais"
   ]
  },
  {
   "cell_type": "markdown",
   "metadata": {
    "id": "7-J0qc0EQKq4"
   },
   "source": [
    "### IF"
   ]
  },
  {
   "cell_type": "code",
   "execution_count": 7,
   "metadata": {
    "id": "CFxkV4P7-fHd"
   },
   "outputs": [],
   "source": [
    "x = 10\n",
    "y = 15"
   ]
  },
  {
   "cell_type": "code",
   "execution_count": 8,
   "metadata": {
    "colab": {
     "base_uri": "https://localhost:8080/"
    },
    "id": "mj4SGmB6-oMB",
    "outputId": "40c617d2-33e9-41cb-c678-fdd531df48c3"
   },
   "outputs": [
    {
     "name": "stdout",
     "output_type": "stream",
     "text": [
      "x é menor do que y\n"
     ]
    }
   ],
   "source": [
    "if x > y:\n",
    "  print(\"x é maior do que y\")\n",
    "elif x < y:\n",
    "  print(\"x é menor do que y\")\n",
    "else:\n",
    "  print(\"x é igual a y\")"
   ]
  },
  {
   "cell_type": "markdown",
   "metadata": {
    "id": "6-xiG4LY_pLm"
   },
   "source": [
    "## Estrutura de repetição"
   ]
  },
  {
   "cell_type": "markdown",
   "metadata": {
    "id": "89nMXeXqQD2n"
   },
   "source": [
    "### FOR"
   ]
  },
  {
   "cell_type": "code",
   "execution_count": 9,
   "metadata": {
    "colab": {
     "base_uri": "https://localhost:8080/"
    },
    "id": "rXf5ahnz_TQw",
    "outputId": "ab54548a-1374-4c08-9e0e-f0e849a6adbe"
   },
   "outputs": [
    {
     "name": "stdout",
     "output_type": "stream",
     "text": [
      "1\n",
      "2\n",
      "3\n",
      "4\n",
      "5\n"
     ]
    }
   ],
   "source": [
    "lista = [1, 2, 3, 4, 5]\n",
    "\n",
    "for i in lista:\n",
    "  print(i)"
   ]
  },
  {
   "cell_type": "code",
   "execution_count": 10,
   "metadata": {
    "colab": {
     "base_uri": "https://localhost:8080/"
    },
    "id": "aXuGP1er_rfY",
    "outputId": "dcd71a20-8c0c-449b-cfce-aa9d246bcc95"
   },
   "outputs": [
    {
     "name": "stdout",
     "output_type": "stream",
     "text": [
      "E\n",
      "S\n",
      "T\n",
      "U\n",
      "D\n",
      "A\n",
      "R\n",
      " \n",
      "P\n",
      "Y\n",
      "T\n",
      "H\n",
      "O\n",
      "N\n",
      " \n",
      "P\n",
      "O\n",
      "D\n",
      "E\n",
      " \n",
      "M\n",
      "E\n",
      " \n",
      "A\n",
      "J\n",
      "U\n",
      "D\n",
      "A\n",
      "R\n",
      " \n",
      "A\n",
      " \n",
      "P\n",
      "R\n",
      "O\n",
      "G\n",
      "R\n",
      "E\n",
      "D\n",
      "I\n",
      "R\n",
      " \n",
      "N\n",
      "A\n",
      " \n",
      "C\n",
      "A\n",
      "R\n",
      "R\n",
      "E\n",
      "I\n",
      "R\n",
      "A\n"
     ]
    }
   ],
   "source": [
    "texto = \"Estudar Python pode me ajudar a progredir na carreira\"\n",
    "for t in texto:\n",
    "  print(t.upper())"
   ]
  },
  {
   "cell_type": "markdown",
   "metadata": {
    "id": "MwbrAFcMQHaP"
   },
   "source": [
    "### WHILE"
   ]
  },
  {
   "cell_type": "code",
   "execution_count": 11,
   "metadata": {
    "colab": {
     "base_uri": "https://localhost:8080/"
    },
    "id": "s641jvAUP63O",
    "outputId": "07d9472f-1257-49c7-95d4-fe90f56b2423"
   },
   "outputs": [
    {
     "name": "stdout",
     "output_type": "stream",
     "text": [
      "0\n",
      "1\n",
      "2\n",
      "3\n",
      "4\n",
      "5\n",
      "6\n",
      "7\n",
      "8\n",
      "9\n"
     ]
    }
   ],
   "source": [
    "i = 0\n",
    "while i < 10:\n",
    "  print(i)\n",
    "  i += 1"
   ]
  },
  {
   "cell_type": "code",
   "execution_count": 12,
   "metadata": {
    "colab": {
     "base_uri": "https://localhost:8080/"
    },
    "id": "jLUVisqAQdjY",
    "outputId": "cbcaea2d-316d-4795-bb2e-593518e8c82f"
   },
   "outputs": [
    {
     "name": "stdout",
     "output_type": "stream",
     "text": [
      "0\n",
      "2\n",
      "4\n",
      "6\n",
      "8\n",
      "10\n",
      "12\n",
      "14\n",
      "16\n",
      "18\n",
      "20\n",
      "22\n",
      "24\n",
      "26\n",
      "28\n",
      "30\n",
      "32\n",
      "34\n",
      "36\n",
      "38\n",
      "40\n",
      "42\n",
      "44\n",
      "46\n",
      "48\n"
     ]
    }
   ],
   "source": [
    "x = 0\n",
    "while x < 50:\n",
    "  if x % 2 == 0:\n",
    "    print(x)\n",
    "  x += 1"
   ]
  },
  {
   "cell_type": "markdown",
   "metadata": {
    "id": "Sgd-unVZRT_8"
   },
   "source": [
    "# Estrutura de Dados"
   ]
  },
  {
   "cell_type": "markdown",
   "metadata": {
    "id": "VOlRLWTBRW1p"
   },
   "source": [
    "### Tupla"
   ]
  },
  {
   "cell_type": "code",
   "execution_count": 13,
   "metadata": {
    "colab": {
     "base_uri": "https://localhost:8080/"
    },
    "id": "tNWVTOZcQ1Gk",
    "outputId": "28c3bbb9-f4c8-4f09-97ab-a5c4cdb4d827"
   },
   "outputs": [
    {
     "data": {
      "text/plain": [
       "tuple"
      ]
     },
     "execution_count": 13,
     "metadata": {},
     "output_type": "execute_result"
    }
   ],
   "source": [
    "tupla = (1 ,2 , 3, 4, 5)\n",
    "type(tupla)"
   ]
  },
  {
   "cell_type": "markdown",
   "metadata": {
    "id": "Fln6Yj7fRlSw"
   },
   "source": [
    "### Lista"
   ]
  },
  {
   "cell_type": "code",
   "execution_count": 14,
   "metadata": {
    "colab": {
     "base_uri": "https://localhost:8080/"
    },
    "id": "ItvS6zaQRe0N",
    "outputId": "b5da8349-2d75-47cc-ab70-76ff75f6f109"
   },
   "outputs": [
    {
     "data": {
      "text/plain": [
       "list"
      ]
     },
     "execution_count": 14,
     "metadata": {},
     "output_type": "execute_result"
    }
   ],
   "source": [
    "lista = [1 ,2, 3, 4 , 5]\n",
    "type(lista)"
   ]
  },
  {
   "cell_type": "markdown",
   "metadata": {
    "id": "JR7rPYGeRvxJ"
   },
   "source": [
    "###Dicionário"
   ]
  },
  {
   "cell_type": "code",
   "execution_count": 15,
   "metadata": {
    "colab": {
     "base_uri": "https://localhost:8080/"
    },
    "id": "gmaEumswRp9c",
    "outputId": "8fdd48a8-faa1-4484-ae44-83995d6563be"
   },
   "outputs": [
    {
     "data": {
      "text/plain": [
       "dict"
      ]
     },
     "execution_count": 15,
     "metadata": {},
     "output_type": "execute_result"
    }
   ],
   "source": [
    "dicionario = {\"nome\":\"Michelle\", \"altura\":1.70}\n",
    "type(dicionario)\n"
   ]
  },
  {
   "cell_type": "markdown",
   "metadata": {
    "id": "HYloyHZYSXox"
   },
   "source": [
    "# Funções"
   ]
  },
  {
   "cell_type": "code",
   "execution_count": 16,
   "metadata": {
    "colab": {
     "base_uri": "https://localhost:8080/"
    },
    "id": "J49CMAUtSFlF",
    "outputId": "ca351052-c02c-417b-d469-34ad89d20865"
   },
   "outputs": [
    {
     "name": "stdout",
     "output_type": "stream",
     "text": [
      "102\n"
     ]
    }
   ],
   "source": [
    "def somar (a, b):\n",
    "  return a + b\n",
    "\n",
    "resultado = somar(5 , 97)\n",
    "\n",
    "print(resultado)"
   ]
  },
  {
   "cell_type": "code",
   "execution_count": null,
   "metadata": {
    "colab": {
     "base_uri": "https://localhost:8080/"
    },
    "id": "eWNi0glAS14c",
    "outputId": "61a072eb-72e3-44c0-cf69-0a898ff0089c"
   },
   "outputs": [],
   "source": [
    "def conferir_idade (a):\n",
    "  if a >= 18:\n",
    "    print(\"Maior de idade\")\n",
    "  else:\n",
    "    print(\"Menor de idade\")\n",
    "\n",
    "retorno = conferir_idade(int(input(\"Qual a idade informada: \")))\n"
   ]
  },
  {
   "cell_type": "markdown",
   "metadata": {
    "id": "UjWXy4t7YhQU"
   },
   "source": [
    "# Análise de Dados com Python"
   ]
  },
  {
   "cell_type": "markdown",
   "metadata": {
    "id": "oMRMt69OYmCo"
   },
   "source": [
    "## Bibliotecas Importantes"
   ]
  },
  {
   "cell_type": "markdown",
   "metadata": {
    "id": "zNDKFLrVY6-p"
   },
   "source": [
    "###NumPy\n",
    "\n",
    "NumPy é uma biblioteca fundamental para computação científica em Python. Ela fornece um objeto de matriz multidimensional de alta performance e ferramentas para trabalhar com essas matrizes."
   ]
  },
  {
   "cell_type": "code",
   "execution_count": null,
   "metadata": {
    "colab": {
     "base_uri": "https://localhost:8080/"
    },
    "id": "6TusdwsaYnuj",
    "outputId": "d90ae0d5-9120-4aa8-df16-0655cb821867"
   },
   "outputs": [],
   "source": [
    "pip install numpy"
   ]
  },
  {
   "cell_type": "code",
   "execution_count": null,
   "metadata": {
    "id": "xMX4VOQ0Ys_7"
   },
   "outputs": [],
   "source": [
    "import numpy as np"
   ]
  },
  {
   "cell_type": "code",
   "execution_count": null,
   "metadata": {
    "colab": {
     "base_uri": "https://localhost:8080/"
    },
    "id": "-sZS1DeBY0-B",
    "outputId": "9ebf504f-b335-49ae-bc2d-95a1a843ec68"
   },
   "outputs": [],
   "source": [
    "array = np.array([1, 2, 3, 4, 5, 6])\n",
    "print(array)\n",
    "print(array.mean()) # Média dos elementos"
   ]
  },
  {
   "cell_type": "markdown",
   "metadata": {
    "id": "c0x6G4v8Zbgc"
   },
   "source": [
    "###Pandas\n",
    "\n",
    "Pandas é uma biblioteca poderosa para análise de dados. Ela fornece estruturas de dados como DataFrame, que é essencial para manipulação de dados."
   ]
  },
  {
   "cell_type": "code",
   "execution_count": null,
   "metadata": {
    "id": "t2Q_uuv0ZT4K"
   },
   "outputs": [],
   "source": [
    "# pip install pandas"
   ]
  },
  {
   "cell_type": "code",
   "execution_count": null,
   "metadata": {
    "id": "20urThmCZmqD"
   },
   "outputs": [],
   "source": [
    "import pandas as pd"
   ]
  },
  {
   "cell_type": "code",
   "execution_count": null,
   "metadata": {
    "id": "tyCq3EZtZot6"
   },
   "outputs": [],
   "source": [
    "data = {\n",
    "    \"Nome\": [\"Ana\", \"João\", \"Maria\"],\n",
    "    \"Idade\":[\"23\", \"34\", \"45\"],\n",
    "    \"Cidade\":[\"São Paulo\",\"Rio de Janeiro\",\"Belo Horizonte\"]\n",
    "}"
   ]
  },
  {
   "cell_type": "code",
   "execution_count": null,
   "metadata": {
    "colab": {
     "base_uri": "https://localhost:8080/"
    },
    "id": "sdcb_D1NaP4z",
    "outputId": "63d835b0-39d9-4a6a-d3cf-bcfd4f3b9906"
   },
   "outputs": [],
   "source": [
    "df = pd.DataFrame(data)\n",
    "print(df)"
   ]
  },
  {
   "cell_type": "markdown",
   "metadata": {
    "id": "Fabdu93sagFv"
   },
   "source": [
    "###Matplotlib\n",
    "Matplotlib é uma biblioteca para criação de visualizações estáticas, animadas e interativas em Python."
   ]
  },
  {
   "cell_type": "code",
   "execution_count": null,
   "metadata": {
    "id": "qSJinZ60aWXS"
   },
   "outputs": [],
   "source": [
    "import matplotlib.pyplot as plt"
   ]
  },
  {
   "cell_type": "code",
   "execution_count": null,
   "metadata": {
    "colab": {
     "base_uri": "https://localhost:8080/",
     "height": 642
    },
    "id": "27fUu909aroB",
    "outputId": "eba1f9e0-1141-4898-85cd-c22be3f80569"
   },
   "outputs": [],
   "source": [
    "x = [1, 2, 3, 4, 5]\n",
    "y = [2, 3, 5, 7, 11]\n",
    "\n",
    "plt.plot(x, y)\n",
    "plt.xlabel(\"x\")\n",
    "plt.ylabel(\"y\")\n",
    "plt.title(\"Gráfico de Linha\")\n",
    "plt.show()"
   ]
  }
 ],
 "metadata": {
  "colab": {
   "provenance": []
  },
  "kernelspec": {
   "display_name": "Python 3 (ipykernel)",
   "language": "python",
   "name": "python3"
  },
  "language_info": {
   "codemirror_mode": {
    "name": "ipython",
    "version": 3
   },
   "file_extension": ".py",
   "mimetype": "text/x-python",
   "name": "python",
   "nbconvert_exporter": "python",
   "pygments_lexer": "ipython3",
   "version": "3.9.13"
  }
 },
 "nbformat": 4,
 "nbformat_minor": 1
}
